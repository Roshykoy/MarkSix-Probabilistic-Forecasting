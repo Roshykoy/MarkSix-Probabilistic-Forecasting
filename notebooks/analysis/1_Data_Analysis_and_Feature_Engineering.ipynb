{
 "cells": [
  {
   "cell_type": "markdown",
   "metadata": {},
   "source": [
    "# Notebook 1: Data Analysis & Feature Engineering\n",
    "\n",
    "This notebook explores the raw Mark Six dataset and demonstrates the functionality of the `FeatureEngineer` class. It's a crucial first step to understand the data we're working with before moving on to modeling."
   ]
  },
  {
   "cell_type": "markdown",
   "metadata": {},
   "source": [
    "### 1. Setup and Imports\n",
    "\n",
    "First, we import the necessary libraries and load our project's configuration and `FeatureEngineer` class. We need to add the `src` directory to our path to make the custom modules available."
   ]
  },
  {
   "cell_type": "code",
   "execution_count": null,
   "metadata": {},
   "outputs": [],
   "source": [
    "import pandas as pd\n",
    "import numpy as np\n",
    "import sys\n",
    "import os\n",
    "import matplotlib.pyplot as plt\n",
    "import seaborn as sns\n",
    "\n",
    "# Add the source directory to the Python path\n",
    "sys.path.append(os.path.abspath(os.path.join('..')))\n",
    "\n",
    "from src.config import CONFIG\n",
    "from src.feature_engineering import FeatureEngineer\n",
    "\n",
    "print(\"Setup complete. Modules loaded.\")"
   ]
  },
  {
   "cell_type": "markdown",
   "metadata": {},
   "source": [
    "### 2. Loading the Data\n",
    "\n",
    "We load the historical data from `data/raw/Mark_Six.csv`. As discovered during development, the CSV has a malformed header, so we must define the column names manually and skip the initial rows."
   ]
  },
  {
   "cell_type": "code",
   "execution_count": null,
   "metadata": {},
   "outputs": [],
   "source": [
    "col_names = [\n",
    "    'Draw', 'Date', 'Winning_Num_1', 'Winning_Num_2', 'Winning_Num_3',\n",
    "    'Winning_Num_4', 'Winning_Num_5', 'Winning_Num_6', 'Extra_Num',\n",
    "    'From_Last', 'Low', 'High', 'Odd', 'Even', '1-10', '11-20', '21-30',\n",
    "    '31-40', '41-50', 'Div_1_Winners', 'Div_1_Prize', 'Div_2_Winners',\n",
    "    'Div_2_Prize', 'Div_3_Winners', 'Div_3_Prize', 'Div_4_Winners',\n",
    "    'Div_4_Prize', 'Div_5_Winners', 'Div_5_Prize', 'Div_6_Winners',\n",
    "    'Div_6_Prize', 'Div_7_Winners', 'Div_7_Prize', 'Turnover'\n",
    "]\n",
    "\n",
    "# Construct the relative path to the data file\n",
    "data_path = os.path.join('..', CONFIG[\"data_path\"])\n",
    "\n",
    "# Load the dataset, skipping the header and assigning names\n",
    "df = pd.read_csv(data_path, header=None, skiprows=33, names=col_names)\n",
    "\n",
    "# Convert Date column to datetime objects and sort\n",
    "df['Date'] = pd.to_datetime(df['Date'])\n",
    "df = df.sort_values(by='Date').reset_index(drop=True)\n",
    "\n",
    "print(f\"Dataset loaded successfully with {len(df)} records.\")\n",
    "df.head()"
   ]
  },
  {
   "cell_type": "markdown",
   "metadata": {},
   "source": [
    "### 3. Feature Engineering Demonstration\n",
    "\n",
    "Now, we'll instantiate and fit the `FeatureEngineer` on our historical data. The `.fit()` method calculates all the necessary statistics (like number and pair frequencies) from the entire dataset."
   ]
  },
  {
   "cell_type": "code",
   "execution_count": null,
   "metadata": {},
   "outputs": [],
   "source": [
    "feature_engineer = FeatureEngineer()\n",
    "feature_engineer.fit(df)\n",
    "\n",
    "print(f\"FeatureEngineer fitted on {feature_engineer.total_draws} draws.\")\n",
    "print(f\"Total unique historical combinations found: {len(feature_engineer.historical_sets)}\")"
   ]
  },
  {
   "cell_type": "markdown",
   "metadata": {},
   "source": [
    "#### Transforming a Sample Set\n",
    "\n",
    "Let's see the `FeatureEngineer` in action. The `.transform()` method takes a 6-number list and converts it into the feature vector that our model uses for scoring."
   ]
  },
  {
   "cell_type": "code",
   "execution_count": null,
   "metadata": {},
   "outputs": [],
   "source": [
    "sample_set = [1, 2, 3, 4, 5, 6]\n",
    "current_draw_index = len(df) # The index for a new, hypothetical draw\n",
    "\n",
    "feature_vector = feature_engineer.transform(sample_set, current_draw_index)\n",
    "\n",
    "print(f\"Sample Set: {sample_set}\")\n",
    "print(f\"Generated Feature Vector (shape: {feature_vector.shape}):\\n{feature_vector}\")"
   ]
  },
  {
   "cell_type": "markdown",
   "metadata": {},
   "source": [
    "### 4. Basic Data Visualization\n",
    "\n",
    "Visualizing the data can reveal interesting patterns. Let's plot the frequency of each number across all historical draws."
   ]
  },
  {
   "cell_type": "code",
   "execution_count": null,
   "metadata": {},
   "outputs": [],
   "source": [
    "# The number counts are already calculated in our fitted FeatureEngineer\n",
    "number_frequencies = feature_engineer.number_counts\n",
    "\n",
    "# Prepare data for plotting\n",
    "numbers = sorted(number_frequencies.keys())\n",
    "counts = [number_frequencies[n] for n in numbers]\n",
    "\n",
    "# Create the plot\n",
    "plt.figure(figsize=(18, 8))\n",
    "sns.barplot(x=numbers, y=counts, palette='viridis')\n",
    "plt.title('Historical Frequency of Each Mark Six Number', fontsize=16)\n",
    "plt.xlabel('Lottery Number', fontsize=12)\n",
    "plt.ylabel('Frequency Count', fontsize=12)\n",
    "plt.xticks(rotation=45, ha='right')\n",
    "plt.grid(axis='y', linestyle='--', alpha=0.7)\n",
    "plt.tight_layout()\n",
    "plt.show()"
   ]
  },
  {
   "cell_type": "markdown",
   "metadata": {},
   "source": [
    "This plot shows that while most numbers appear a similar number of times, there are slight variations, which is a pattern our model can learn from."
   ]
  }
 ],
 "metadata": {
  "kernelspec": {
   "display_name": "Python 3",
   "language": "python",
   "name": "python3"
  },
  "language_info": {
   "codemirror_mode": {
    "name": "ipython",
    "version": 3
   },
   "file_extension": ".py",
   "mimetype": "text/x-python",
   "name": "python",
   "nbconvert_exporter": "python",
   "pygments_lexer": "ipython3",
   "version": "3.10.0"
  }
 },
 "nbformat": 4,
 "nbformat_minor": 4
}
